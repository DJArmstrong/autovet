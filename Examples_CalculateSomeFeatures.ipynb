{
 "cells": [
  {
   "cell_type": "code",
   "execution_count": 1,
   "metadata": {
    "collapsed": false
   },
   "outputs": [],
   "source": [
    "import Loader\n",
    "import Features"
   ]
  },
  {
   "cell_type": "code",
   "execution_count": 2,
   "metadata": {
    "collapsed": false
   },
   "outputs": [
    {
     "data": {
      "text/plain": [
       "<Loader.Loader.Candidate at 0x111982dd0>"
      ]
     },
     "execution_count": 2,
     "metadata": {},
     "output_type": "execute_result"
    }
   ],
   "source": [
    "#create a single candidate object (K2), with ID of 2044 (arbitrary)\n",
    "dat=Loader.Candidate(2044,'ktwo204490599c02_lpd_LC.txt',observatory='K2')\n",
    "dat"
   ]
  },
  {
   "cell_type": "code",
   "execution_count": 3,
   "metadata": {
    "collapsed": false
   },
   "outputs": [
    {
     "data": {
      "text/plain": [
       "<Features.Featureset.Featureset at 0x1119ee710>"
      ]
     },
     "execution_count": 3,
     "metadata": {},
     "output_type": "execute_result"
    }
   ],
   "source": [
    "#set up a featureset object\n",
    "feat=Features.Featureset(dat,useflatten=False)\n",
    "feat"
   ]
  },
  {
   "cell_type": "code",
   "execution_count": 4,
   "metadata": {
    "collapsed": false
   },
   "outputs": [
    {
     "name": "stderr",
     "output_type": "stream",
     "text": [
      "Features/lomb.py:151: VisibleDeprecationWarning: using a non-integer number instead of an integer will result in an error in the future\n",
      "  wk1 = wk1[1:nout+1]\n",
      "Features/lomb.py:152: VisibleDeprecationWarning: using a non-integer number instead of an integer will result in an error in the future\n",
      "  wk2 = wk2[1:nout+1]\n"
     ]
    },
    {
     "name": "stdout",
     "output_type": "stream",
     "text": [
      "Calculating LS Period first\n"
     ]
    }
   ],
   "source": [
    "#calculate some features\n",
    "feat.CalcFeatures(featuredict={'SPhot_max':[],'Contrast':[],'LSPeriod':[1],'LSAmp':[1],'F8':[]})"
   ]
  },
  {
   "cell_type": "code",
   "execution_count": 5,
   "metadata": {
    "collapsed": false
   },
   "outputs": [
    {
     "data": {
      "text/plain": [
       "{'Contrast': 1.2356388244476855,\n",
       " 'F8': 0.00019326222177056034,\n",
       " 'LSAmp1': 0.37521055048983798,\n",
       " 'LSPeriod0': 1.9599740639195893,\n",
       " 'LSPeriod1': 0.96690392473083342,\n",
       " 'SPhot_max': 0.00041158940272038896}"
      ]
     },
     "execution_count": 5,
     "metadata": {},
     "output_type": "execute_result"
    }
   ],
   "source": [
    "#show current set of calculates features (note, LSPeriod0 is present as it was calculated by the SPhot_max function)\n",
    "feat.features"
   ]
  },
  {
   "cell_type": "code",
   "execution_count": 6,
   "metadata": {
    "collapsed": false
   },
   "outputs": [
    {
     "data": {
      "text/plain": [
       "{'Contrast': 1.2356388244476855,\n",
       " 'F8': 0.00019326222177056034,\n",
       " 'LSAmp1': 0.37521055048983798,\n",
       " 'LSAmp3': 0.24805572283418356,\n",
       " 'LSPeriod0': 1.9599740639195893,\n",
       " 'LSPeriod1': 0.96690392473083342,\n",
       " 'LSPeriod3': 0.9914862279019564,\n",
       " 'SPhot_max': 0.00041158940272038896}"
      ]
     },
     "execution_count": 6,
     "metadata": {},
     "output_type": "execute_result"
    }
   ],
   "source": [
    "#calculate some more features\n",
    "feat.CalcFeatures(featuredict={'LSPeriod':[3],'LSAmp':[3]})\n",
    "feat.features"
   ]
  },
  {
   "cell_type": "code",
   "execution_count": 7,
   "metadata": {
    "collapsed": false
   },
   "outputs": [
    {
     "name": "stderr",
     "output_type": "stream",
     "text": [
      "Feature Extraction: 100%|██████████| 1/1 [00:18<00:00, 18.04s/it]\n"
     ]
    }
   ],
   "source": [
    "#now let's use some tsfresh features to save us some coding\n",
    "feat.CalcFeatures(featuredict={'TSFresh':['flux__median']})"
   ]
  },
  {
   "cell_type": "code",
   "execution_count": 9,
   "metadata": {
    "collapsed": false
   },
   "outputs": [
    {
     "data": {
      "text/plain": [
       "{'Contrast': 1.2356388244476855,\n",
       " 'F8': 0.00019326222177056034,\n",
       " 'LSAmp1': 0.37521055048983798,\n",
       " 'LSAmp3': 0.24805572283418356,\n",
       " 'LSPeriod0': 1.9599740639195893,\n",
       " 'LSPeriod1': 0.96690392473083342,\n",
       " 'LSPeriod3': 0.9914862279019564,\n",
       " 'SPhot_max': 0.00041158940272038896,\n",
       " 'TSFreshflux__median': 0.99996021664223045,\n",
       " 'TSFreshflux__time_reversal_asymmetry_statistic__lag_2': -3.3240814610343844e-07}"
      ]
     },
     "execution_count": 9,
     "metadata": {},
     "output_type": "execute_result"
    }
   ],
   "source": [
    "#using more tsfresh features takes no more time\n",
    "feat.CalcFeatures(featuredict={'TSFresh':['flux__time_reversal_asymmetry_statistic__lag_2']})\n",
    "feat.features"
   ]
  },
  {
   "cell_type": "code",
   "execution_count": null,
   "metadata": {
    "collapsed": true
   },
   "outputs": [],
   "source": []
  }
 ],
 "metadata": {
  "kernelspec": {
   "display_name": "Python 2",
   "language": "python",
   "name": "python2"
  },
  "language_info": {
   "codemirror_mode": {
    "name": "ipython",
    "version": 2
   },
   "file_extension": ".py",
   "mimetype": "text/x-python",
   "name": "python",
   "nbconvert_exporter": "python",
   "pygments_lexer": "ipython2",
   "version": "2.7.9"
  }
 },
 "nbformat": 4,
 "nbformat_minor": 0
}
